{
  "nbformat": 4,
  "nbformat_minor": 0,
  "metadata": {
    "colab": {
      "provenance": []
    },
    "kernelspec": {
      "name": "python3",
      "display_name": "Python 3"
    },
    "language_info": {
      "name": "python"
    }
  },
  "cells": [
    {
      "cell_type": "markdown",
      "source": [
        "1. **Difference Between a Function and a Method in Python**  \n",
        "   - A **function** is a block of reusable code that performs a specific task and is defined using the `def` keyword. It can exist independently.  \n",
        "   - A **method** is a function that is associated with an object and operates on that object. It is typically defined inside a class and has access to the instance (`self`).\n",
        "\n",
        "2. **Function Arguments and Parameters**  \n",
        "   - **Parameters** are variables listed in the function definition.  \n",
        "   - **Arguments** are the actual values passed to the function when it is called.  \n",
        "   - Example:\n",
        "     ```python\n",
        "     def greet(name):  # 'name' is a parameter\n",
        "         print(f\"Hello, {name}!\")\n",
        "\n",
        "     greet(\"Alice\")  # \"Alice\" is an argument\n",
        "     ```\n",
        "\n",
        "3. **Ways to Define and Call a Function**  \n",
        "   - **Defining a function** using `def`:\n",
        "     ```python\n",
        "     def add(a, b):\n",
        "         return a + b\n",
        "     ```\n",
        "   - **Calling a function**:\n",
        "     ```python\n",
        "     result = add(3, 5)\n",
        "     ```\n",
        "   - Other ways:\n",
        "     - Using **lambda functions**\n",
        "     - Using **functions as arguments**\n",
        "     - Using **recursion**\n",
        "\n",
        "4. **Purpose of the `return` Statement**  \n",
        "   - The `return` statement is used to send a result from a function to its caller.  \n",
        "   - Example:\n",
        "     ```python\n",
        "     def square(num):\n",
        "         return num * num\n",
        "     print(square(4))  # Output: 16\n",
        "     ```\n",
        "\n",
        "5. **Iterators vs Iterables**  \n",
        "   - An **iterable** is an object that can be looped over (e.g., lists, tuples, dictionaries).  \n",
        "   - An **iterator** is an object that implements `__iter__()` and `__next__()`.  \n",
        "   - Example:\n",
        "     ```python\n",
        "     my_list = [1, 2, 3]  # Iterable\n",
        "     my_iter = iter(my_list)  # Iterator\n",
        "     print(next(my_iter))  # Output: 1\n",
        "     ```\n",
        "\n",
        "6. **Generators in Python**  \n",
        "   - Generators are a special type of iterator that generates values lazily using the `yield` keyword.  \n",
        "   - Example:\n",
        "     ```python\n",
        "     def my_generator():\n",
        "         yield 1\n",
        "         yield 2\n",
        "         yield 3\n",
        "     gen = my_generator()\n",
        "     print(next(gen))  # Output: 1\n",
        "     ```\n",
        "\n",
        "7. **Advantages of Generators Over Regular Functions**  \n",
        "   - **Memory Efficient**: They don’t store all values in memory.  \n",
        "   - **Lazy Evaluation**: Values are produced only when needed.  \n",
        "   - **Simplified Code**: Avoids manual implementation of `__iter__` and `__next__`.\n",
        "\n",
        "8. **Lambda Functions in Python**  \n",
        "   - A **lambda function** is an anonymous function defined with the `lambda` keyword.  \n",
        "   - Typically used for short, simple operations.  \n",
        "   - Example:\n",
        "     ```python\n",
        "     square = lambda x: x * x\n",
        "     print(square(5))  # Output: 25\n",
        "     ```\n",
        "\n",
        "9. **Purpose and Usage of `map()` Function**  \n",
        "   - `map()` applies a function to all items in an iterable.  \n",
        "   - Example:\n",
        "     ```python\n",
        "     nums = [1, 2, 3]\n",
        "     squared = list(map(lambda x: x*x, nums))\n",
        "     print(squared)  # Output: [1, 4, 9]\n",
        "     ```\n",
        "\n",
        "10. **Difference Between `map()`, `reduce()`, and `filter()`**  \n",
        "   - `map()`: Applies a function to each item in an iterable.  \n",
        "   - `reduce()`: Reduces an iterable to a single value by applying a function cumulatively.  \n",
        "   - `filter()`: Filters elements based on a function condition.  \n",
        "   - Example:\n",
        "    \n",
        "     from functools import reduce\n",
        "     nums = [1, 2, 3, 4]\n",
        "\n",
        "     print(list(map(lambda x: x * 2, nums)))  # [2, 4, 6, 8]\n",
        "     print(reduce(lambda x, y: x + y, nums))  # 10\n",
        "     print(list(filter(lambda x: x % 2 == 0, nums)))  # [2, 4]\n",
        "    \n",
        "\n",
        "11. **Internal Mechanism of `reduce()` for Sum Operation**\n",
        "   - Given list: `[47, 11, 42, 13]`\n",
        "   - Using `reduce()`:\n",
        "   \n",
        "     from functools import reduce\n",
        "     nums = [47, 11, 42, 13]\n",
        "     result = reduce(lambda x, y: x + y, nums)\n",
        "     print(result)  # Output: 113\n",
        "\n",
        "   - **Step-by-step execution:**\n",
        "  \n",
        "     Step 1: 47 + 11 = 58\n",
        "     Step 2: 58 + 42 = 100\n",
        "     Step 3: 100 + 13 = 113\n",
        "     Final Result: 113\n",
        "     "
      ],
      "metadata": {
        "id": "LcBs2O10NUUc"
      }
    },
    {
      "cell_type": "code",
      "execution_count": null,
      "metadata": {
        "colab": {
          "base_uri": "https://localhost:8080/"
        },
        "id": "Rl0HZDrllH49",
        "outputId": "069d2ee7-3962-4ea7-ce55-17cba9845c49"
      },
      "outputs": [
        {
          "output_type": "stream",
          "name": "stdout",
          "text": [
            "12\n"
          ]
        }
      ],
      "source": [
        "#1. Sum of Even Numbers in a List\n",
        "def sum_even_numbers(lst):\n",
        "    return sum(num for num in lst if num % 2 == 0)\n",
        "\n",
        "# Example usage\n",
        "numbers = [1, 2, 3, 4, 5, 6]\n",
        "print(sum_even_numbers(numbers))  # Output: 12\n"
      ]
    },
    {
      "cell_type": "code",
      "source": [
        "#2.  Reverse a String\n",
        "def reverse_string(s):\n",
        "    return s[::-1]\n",
        "\n",
        "# Example usage\n",
        "print(reverse_string(\"hello\"))  # Output: \"olleh\"\n"
      ],
      "metadata": {
        "colab": {
          "base_uri": "https://localhost:8080/"
        },
        "id": "VhN0O0CAlQm-",
        "outputId": "5522090b-bd67-40a3-82b5-7d38a99a0b2a"
      },
      "execution_count": null,
      "outputs": [
        {
          "output_type": "stream",
          "name": "stdout",
          "text": [
            "olleh\n"
          ]
        }
      ]
    },
    {
      "cell_type": "code",
      "source": [
        "#3.Square Each Number in a List\n",
        "def square_numbers(lst):\n",
        "    return [num ** 2 for num in lst]\n",
        "\n",
        "# Example usage\n",
        "print(square_numbers([1, 2, 3, 4]))  # Output: [1, 4, 9, 16]\n"
      ],
      "metadata": {
        "colab": {
          "base_uri": "https://localhost:8080/"
        },
        "id": "p16B_OlzlUqF",
        "outputId": "5be79538-a672-4d08-c65f-28979114db42"
      },
      "execution_count": null,
      "outputs": [
        {
          "output_type": "stream",
          "name": "stdout",
          "text": [
            "[1, 4, 9, 16]\n"
          ]
        }
      ]
    },
    {
      "cell_type": "code",
      "source": [
        "#4.Check if a Number is Prime (1 to 200)\n",
        "def is_prime(n):\n",
        "    if n < 2:\n",
        "        return False\n",
        "    for i in range(2, int(n ** 0.5) + 1):\n",
        "        if n % i == 0:\n",
        "            return False\n",
        "    return True\n",
        "\n",
        "# Checking numbers from 1 to 200\n",
        "primes = [n for n in range(1, 201) if is_prime(n)]\n",
        "print(primes)\n"
      ],
      "metadata": {
        "colab": {
          "base_uri": "https://localhost:8080/"
        },
        "id": "mRaEqFHSlVrX",
        "outputId": "f8e4c1a7-ea93-4aa9-880c-d314d568f897"
      },
      "execution_count": null,
      "outputs": [
        {
          "output_type": "stream",
          "name": "stdout",
          "text": [
            "[2, 3, 5, 7, 11, 13, 17, 19, 23, 29, 31, 37, 41, 43, 47, 53, 59, 61, 67, 71, 73, 79, 83, 89, 97, 101, 103, 107, 109, 113, 127, 131, 137, 139, 149, 151, 157, 163, 167, 173, 179, 181, 191, 193, 197, 199]\n"
          ]
        }
      ]
    },
    {
      "cell_type": "code",
      "source": [
        "#5. Fibonacci Iterator Class\n",
        "class FibonacciIterator:\n",
        "    def __init__(self, terms):\n",
        "        self.terms = terms\n",
        "        self.a, self.b = 0, 1\n",
        "        self.count = 0\n",
        "\n",
        "    def __iter__(self):\n",
        "        return self\n",
        "\n",
        "    def __next__(self):\n",
        "        if self.count >= self.terms:\n",
        "            raise StopIteration\n",
        "        self.a, self.b = self.b, self.a + self.b\n",
        "        self.count += 1\n",
        "        return self.a\n",
        "\n",
        "# Example usage\n",
        "fib = FibonacciIterator(10)\n",
        "print(list(fib))  # Output: First 10 Fibonacci numbers\n",
        "\n"
      ],
      "metadata": {
        "colab": {
          "base_uri": "https://localhost:8080/"
        },
        "id": "AxD-_-F9lWo-",
        "outputId": "01086409-42b7-4e35-de06-d8076a676998"
      },
      "execution_count": null,
      "outputs": [
        {
          "output_type": "stream",
          "name": "stdout",
          "text": [
            "[1, 1, 2, 3, 5, 8, 13, 21, 34, 55]\n"
          ]
        }
      ]
    },
    {
      "cell_type": "code",
      "source": [
        "#6. Generator Function for Powers of 2\n",
        "def powers_of_2(exponent):\n",
        "    for i in range(exponent + 1):\n",
        "        yield 2 ** i\n",
        "\n",
        "# Example usage\n",
        "print(list(powers_of_2(5)))  # Output: [1, 2, 4, 8, 16, 32]\n"
      ],
      "metadata": {
        "colab": {
          "base_uri": "https://localhost:8080/"
        },
        "id": "Unc1lrj4lXnv",
        "outputId": "967264d7-1291-4115-e670-a1af5f55c421"
      },
      "execution_count": null,
      "outputs": [
        {
          "output_type": "stream",
          "name": "stdout",
          "text": [
            "[1, 2, 4, 8, 16, 32]\n"
          ]
        }
      ]
    },
    {
      "cell_type": "code",
      "source": [
        "#7. Sorting Tuples Based on the Second Element Using Lambda\n",
        "tuples_list = [(1, 3), (4, 1), (2, 2)]\n",
        "sorted_list = sorted(tuples_list, key=lambda x: x[1])\n",
        "\n",
        "print(sorted_list)  # Output: [(4, 1), (2, 2), (1, 3)]\n"
      ],
      "metadata": {
        "colab": {
          "base_uri": "https://localhost:8080/"
        },
        "id": "udP_JDnflYpQ",
        "outputId": "7f73e9fa-350e-40f1-e59c-df6fddd0583a"
      },
      "execution_count": null,
      "outputs": [
        {
          "output_type": "stream",
          "name": "stdout",
          "text": [
            "[(4, 1), (2, 2), (1, 3)]\n"
          ]
        }
      ]
    },
    {
      "cell_type": "code",
      "source": [
        "#8.Convert Celsius to Fahrenheit Using map()\n",
        "celsius_temperatures = [0, 20, 30, 40]\n",
        "fahrenheit_temperatures = list(map(lambda c: (c * 9/5) + 32, celsius_temperatures))\n",
        "\n",
        "print(fahrenheit_temperatures)  # Output: [32.0, 68.0, 86.0, 104.0]\n"
      ],
      "metadata": {
        "colab": {
          "base_uri": "https://localhost:8080/"
        },
        "id": "hH0kus-rlZzL",
        "outputId": "21f9e427-39ce-4304-a942-7986db55b182"
      },
      "execution_count": null,
      "outputs": [
        {
          "output_type": "stream",
          "name": "stdout",
          "text": [
            "[32.0, 68.0, 86.0, 104.0]\n"
          ]
        }
      ]
    },
    {
      "cell_type": "code",
      "source": [
        "#9. Remove Vowels Using filter()\n",
        "def remove_vowels(s):\n",
        "    return ''.join(filter(lambda char: char.lower() not in \"aeiou\", s))\n",
        "\n",
        "# Example usage\n",
        "print(remove_vowels(\"hello world\"))  # Output: \"hll wrld\"\n"
      ],
      "metadata": {
        "colab": {
          "base_uri": "https://localhost:8080/"
        },
        "id": "m4wspK-Zlass",
        "outputId": "2eb80ece-1a98-4e92-8c41-2baf79e0483c"
      },
      "execution_count": null,
      "outputs": [
        {
          "output_type": "stream",
          "name": "stdout",
          "text": [
            "hll wrld\n"
          ]
        }
      ]
    },
    {
      "cell_type": "code",
      "source": [
        "#11.\n",
        "orders = [\n",
        "    [34587, \"Learning Python\", 4, 40.95],\n",
        "    [98762, \"Programming Python\", 5, 56.80],\n",
        "    [77226, \"Head First Python\", 3, 32.95],\n",
        "    [88112, \"Einführung in Python\", 3, 24.99]\n",
        "]\n",
        "\n",
        "# Using lambda and map to calculate order totals\n",
        "order_totals = list(map(lambda order:\n",
        "    (order[0], order[2] * order[3] if order[2] * order[3] >= 100 else order[2] * order[3] + 10), orders))\n",
        "\n",
        "print(order_totals)\n"
      ],
      "metadata": {
        "colab": {
          "base_uri": "https://localhost:8080/"
        },
        "id": "wu7p5vQMLlQ6",
        "outputId": "f6292aaa-070d-4f1d-d672-a09a5157c581"
      },
      "execution_count": null,
      "outputs": [
        {
          "output_type": "stream",
          "name": "stdout",
          "text": [
            "[(34587, 163.8), (98762, 284.0), (77226, 108.85000000000001), (88112, 84.97)]\n"
          ]
        }
      ]
    }
  ]
}